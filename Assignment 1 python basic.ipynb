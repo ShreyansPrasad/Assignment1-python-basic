{
 "cells": [
  {
   "cell_type": "code",
   "execution_count": null,
   "id": "8c141083",
   "metadata": {},
   "outputs": [],
   "source": [
    "#Answer1\n",
    "*  - mathematical operator\n",
    "'hello'  - value\n",
    "-87.8  - value\n",
    "-  - mathematical operator\n",
    "/  - mathematical operator\n",
    "+  - mathematical operator\n",
    "6  -value"
   ]
  },
  {
   "cell_type": "code",
   "execution_count": null,
   "id": "c2d7c90e",
   "metadata": {},
   "outputs": [],
   "source": [
    "#Answer2\n",
    "Variable is a location to store any kind of data type assigned to it. String is a kind of data with enclosed within \"\".\n",
    "e.g \n",
    "a=10\n",
    "b=\"happy\"\n",
    "Here a and b are variables whereas \"happy\" is a string. "
   ]
  },
  {
   "cell_type": "code",
   "execution_count": null,
   "id": "d7196405",
   "metadata": {},
   "outputs": [],
   "source": [
    "#Answer3\n",
    "Three data types are:\n",
    "1) Integer : It is a data type which consists of whole number. It can either be positive or negative.\n",
    "    e.g.: 1,99,-56\n",
    "2) String : It is a data type which is enclosed within \"\", and consists of characters, digits, blank space, any other expressions etc.\n",
    "    e.g.: \"happy12 prasad\"\n",
    "3) Complex : It is a data type which consists of a real part and an imaginary part.\n",
    "    e.g.: 3+4j"
   ]
  },
  {
   "cell_type": "code",
   "execution_count": null,
   "id": "102ddd9a",
   "metadata": {},
   "outputs": [],
   "source": [
    "#Answer4\n",
    "Expression is made up operators and operands. Expression is supposed to carry out an operation using operators and operands to prode some value."
   ]
  },
  {
   "cell_type": "code",
   "execution_count": null,
   "id": "8116f7c5",
   "metadata": {},
   "outputs": [],
   "source": [
    "#Answer5\n",
    "spam=10\n",
    "Expression is a combination of values and functions that are combined to generate a new value.\n",
    "Statement does not return any new value but executes a specific instruction.\n",
    "e.g. spam=10 is a statement not an expression"
   ]
  },
  {
   "cell_type": "code",
   "execution_count": 1,
   "id": "ccecb355",
   "metadata": {},
   "outputs": [
    {
     "data": {
      "text/plain": [
       "22"
      ]
     },
     "execution_count": 1,
     "metadata": {},
     "output_type": "execute_result"
    }
   ],
   "source": [
    "#Answer6\n",
    "bacon=22\n",
    "bacon+1\n",
    "bacon\n",
    "#Bacon still contain 22"
   ]
  },
  {
   "cell_type": "code",
   "execution_count": 2,
   "id": "d2b200a1",
   "metadata": {},
   "outputs": [
    {
     "data": {
      "text/plain": [
       "'spamspamspam'"
      ]
     },
     "execution_count": 2,
     "metadata": {},
     "output_type": "execute_result"
    }
   ],
   "source": [
    "#Answer7\n",
    "\"spam\"+\"spamspam\""
   ]
  },
  {
   "cell_type": "code",
   "execution_count": 3,
   "id": "6ce364a0",
   "metadata": {},
   "outputs": [
    {
     "data": {
      "text/plain": [
       "'spamspamspam'"
      ]
     },
     "execution_count": 3,
     "metadata": {},
     "output_type": "execute_result"
    }
   ],
   "source": [
    "\"spam\"*3"
   ]
  },
  {
   "cell_type": "code",
   "execution_count": 5,
   "id": "cd36d7dc",
   "metadata": {},
   "outputs": [],
   "source": [
    "#Answer8\n",
    "Variable name cannot begin with a number"
   ]
  },
  {
   "cell_type": "code",
   "execution_count": null,
   "id": "88064293",
   "metadata": {},
   "outputs": [],
   "source": [
    "#Answer9\n",
    "Integer: int()\n",
    "Floating-point number : float()\n",
    "String version of a value: str()"
   ]
  },
  {
   "cell_type": "code",
   "execution_count": null,
   "id": "720752c3",
   "metadata": {},
   "outputs": [],
   "source": [
    "#Answer10\n",
    "\"i have eaten\"+99+\"burritos\"\n",
    "The above expression cause an error because \"i have eaten\" and \" burritos\" are strings while 99 is an integer. So they\n",
    "are different data types. Both strings can be concatenated if there is no integer in the input, or multiple integers \n",
    "can be added when there is no string in the input."
   ]
  }
 ],
 "metadata": {
  "kernelspec": {
   "display_name": "Python 3 (ipykernel)",
   "language": "python",
   "name": "python3"
  },
  "language_info": {
   "codemirror_mode": {
    "name": "ipython",
    "version": 3
   },
   "file_extension": ".py",
   "mimetype": "text/x-python",
   "name": "python",
   "nbconvert_exporter": "python",
   "pygments_lexer": "ipython3",
   "version": "3.9.7"
  }
 },
 "nbformat": 4,
 "nbformat_minor": 5
}
